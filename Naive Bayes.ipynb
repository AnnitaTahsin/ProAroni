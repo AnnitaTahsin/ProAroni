{
 "cells": [
  {
   "cell_type": "code",
   "execution_count": 25,
   "metadata": {},
   "outputs": [
    {
     "name": "stdout",
     "output_type": "stream",
     "text": [
      "1133.4655710000002\n",
      "5.175420891\n",
      "False\n",
      "Index([], dtype='object')\n"
     ]
    }
   ],
   "source": [
    "import pandas as pd\n",
    "import numpy as np\n",
    "import sklearn\n",
    "from sklearn.naive_bayes import GaussianNB\n",
    "from sklearn.model_selection import train_test_split\n",
    "#from sklearn.cross_validation import train_test_split\n",
    "from sklearn import metrics\n",
    "from sklearn.metrics import accuracy_score\n",
    "\n",
    "#DATA CLEANING AND NULL VALUE \n",
    "df = pd.read_csv(\"C:/Users/annit/Desktop/Python Priyoti/Friday-WorkingHours-Afternoon-DDos.pcap_ISCX.csv\")\n",
    "\n",
    "#def clean_dataset(df):\n",
    " #   assert isinstance(df, pd.DataFrame), \"df needs to be a pd.DataFrame\"\n",
    "  #  df.dropna(inplace=True)\n",
    "   # indices_to_keep = ~df.isin([np.nan, np.inf, -np.inf]).any(1)\n",
    "    #return df[indices_to_keep].astype(np.float64)\n",
    "\n",
    "missing_values =[\"n/a\", \"na\", \" \",\"--\",\"inf\"]\n",
    "df = pd.read_csv(\"C:/Users/annit/Desktop/Python Priyoti/Friday-WorkingHours-Afternoon-DDos.pcap_ISCX.csv\",na_values=missing_values)\n",
    "\n",
    "median = df['Flow Bytes/s'].median()\n",
    "print(median)\n",
    "df['Flow Bytes/s'].fillna(median,inplace=True)\n",
    "\n",
    "median2 = df['Flow Packets/s'].median()\n",
    "print(median2)\n",
    "df['Flow Packets/s'].fillna(median2,inplace=True)\n",
    "\n",
    "print(df.isnull().values.any())\n",
    "print(df.loc[:, df.isnull().any()].columns)\n",
    "#df.dropna()"
   ]
  },
  {
   "cell_type": "code",
   "execution_count": 26,
   "metadata": {},
   "outputs": [],
   "source": [
    "df.columns = ['Destination Port', 'Flow Duration', 'Total Fwd Packets', 'Total Backward Packets', 'Total Length of Fwd Packets', 'Total Length of Bwd Packets', 'Fwd Packet Length Max', 'Fwd Packet Length Min', ' Fwd Packet Length Mean', 'Fwd Packet Length Std', 'Bwd Packet Length Max', 'Bwd Packet Length Min', 'Bwd Packet Length Mean', 'Bwd Packet Length Std', 'Flow Bytes/s', 'Flow Packets/s', 'Flow IAT Mean', 'Flow IAT Std', ' Flow IAT Max', 'Flow IAT Min', 'Fwd IAT Total', 'Fwd IAT Mean', 'Fwd IAT Std', ' Fwd IAT Max', 'Fwd IAT Min', 'Bwd IAT Total', ' Bwd IAT Mean', 'Bwd IAT Std', 'Bwd IAT Max', 'Bwd IAT Min', 'Fwd PSH Flags', 'Bwd PSH Flags', 'Fwd URG Flags', 'Bwd URG Flags', 'Fwd Header Length', 'Bwd Header Length', 'Fwd Packets/s', 'Bwd Packets/s', ' Min Packet Length', ' Max Packet Length', 'Packet Length Mean', 'Packet Length Std', 'Packet Length Variance', 'FIN Flag Count', 'SYN Flag Count', 'RST Flag Count', 'PSH Flag Count', 'ACK Flag Count', 'URG Flag Count', 'CWE Flag Count', 'ECE Flag Count', 'Down/Up Ratio', 'Average Packet Size', 'Avg Fwd Segment Size', 'Avg Bwd Segment Size', 'Fwd Header Length.1', 'Fwd Avg Bytes/Bulk', 'Fwd Avg Packets/Bulk', 'Fwd Avg Bulk Rate', 'Bwd Avg Bytes/Bulk', 'Bwd Avg Packets/Bulk', 'Bwd Avg Bulk Rate', 'Subflow Fwd Packets', ' Subflow Fwd Bytes', 'Subflow Bwd Packets', 'Subflow Bwd Bytes', 'Init_Win_bytes_forward', 'Init_Win_bytes_backward', 'act_data_pkt_fwd', 'min_seg_size_forward', 'Active Mean', 'Active Std', 'Active Max', 'Active Min', 'Idle Mean', 'Idle Std', 'Idle Max', 'Idle Min', 'Label']\n",
    "x = df.iloc[:,0:78] #defining rows and column\n",
    "y = df.iloc[:,-1]\n",
    "X_train, X_test, y_train, y_test = train_test_split(x,y,test_size=0.40,random_state=17) # 70% training and 30% test\n",
    "y_expect = y_test\n"
   ]
  },
  {
   "cell_type": "code",
   "execution_count": 27,
   "metadata": {},
   "outputs": [
    {
     "name": "stdout",
     "output_type": "stream",
     "text": [
      "GaussianNB()\n",
      "0.8046800593590113\n"
     ]
    }
   ],
   "source": [
    "GauseNB = GaussianNB()\n",
    "GauseNB.fit(X_train,y_train)\n",
    "print(GauseNB)\n",
    "\n",
    "y_pred = GauseNB.predict(X_test)\n",
    "print(accuracy_score(y_expect, y_pred))"
   ]
  },
  {
   "cell_type": "code",
   "execution_count": null,
   "metadata": {},
   "outputs": [],
   "source": []
  }
 ],
 "metadata": {
  "kernelspec": {
   "display_name": "Python 3",
   "language": "python",
   "name": "python3"
  },
  "language_info": {
   "codemirror_mode": {
    "name": "ipython",
    "version": 3
   },
   "file_extension": ".py",
   "mimetype": "text/x-python",
   "name": "python",
   "nbconvert_exporter": "python",
   "pygments_lexer": "ipython3",
   "version": "3.8.3"
  }
 },
 "nbformat": 4,
 "nbformat_minor": 4
}
